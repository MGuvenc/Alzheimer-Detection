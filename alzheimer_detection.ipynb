{
  "nbformat": 4,
  "nbformat_minor": 0,
  "metadata": {
    "colab": {
      "provenance": [],
      "mount_file_id": "1QNY8fizq2IYezI5v8JWQrXKK4X5SI4O5",
      "authorship_tag": "ABX9TyPkng4pUK/vaGTP9xxkc9hP",
      "include_colab_link": true
    },
    "kernelspec": {
      "name": "python3",
      "display_name": "Python 3"
    },
    "language_info": {
      "name": "python"
    }
  },
  "cells": [
    {
      "cell_type": "markdown",
      "metadata": {
        "id": "view-in-github",
        "colab_type": "text"
      },
      "source": [
        "<a href=\"https://colab.research.google.com/github/MGuvenc/Alzheimer-Detection/blob/main/alzheimer_detection.ipynb\" target=\"_parent\"><img src=\"https://colab.research.google.com/assets/colab-badge.svg\" alt=\"Open In Colab\"/></a>"
      ]
    },
    {
      "cell_type": "markdown",
      "source": [
        "# Alzheimer Detection"
      ],
      "metadata": {
        "id": "bgDjvDqhS4y3"
      }
    },
    {
      "cell_type": "code",
      "execution_count": null,
      "metadata": {
        "id": "UJKit0lfSiDy"
      },
      "outputs": [],
      "source": []
    }
  ]
}